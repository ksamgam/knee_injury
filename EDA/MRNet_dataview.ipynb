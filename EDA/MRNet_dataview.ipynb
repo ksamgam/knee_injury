{
 "cells": [
  {
   "cell_type": "code",
   "execution_count": 1,
   "metadata": {},
   "outputs": [],
   "source": [
    "import numpy as np\n",
    "import pandas as pd\n",
    "import matplotlib.pyplot as plt\n",
    "from ipywidgets import interact, Dropdown, IntSlider"
   ]
  },
  {
   "cell_type": "code",
   "execution_count": 17,
   "metadata": {},
   "outputs": [],
   "source": [
    "# Put your file path here\n",
    "data_path = \"/Users/ksamgam/Downloads/MRNet-v1.0\"\n",
    "train_path = \"/Users/ksamgam/Downloads/MRNet-v1.0/train\""
   ]
  },
  {
   "cell_type": "code",
   "execution_count": 18,
   "metadata": {},
   "outputs": [],
   "source": [
    "# matplotlib notebook\n",
    "plt.style.use('grayscale')\n",
    "\n",
    "train_abnl = pd.read_csv(data_path + '/train-abnormal.csv', header=None,\n",
    "                       names=['Case', 'Abnormal'], \n",
    "                       dtype={'Case': str, 'Abnormal': np.int64})"
   ]
  },
  {
   "cell_type": "code",
   "execution_count": 19,
   "metadata": {},
   "outputs": [],
   "source": [
    "# data loading functions\n",
    "def load_one_stack(case, data_path = train_path, plane= 'coronal'):\n",
    "    fpath = data_path + \"/\" + plane + \"/\" + '{}.npy'.format(case)\n",
    "    return np.load(fpath)\n",
    "\n",
    "def load_stacks(case, data_path=train_path):\n",
    "    x = {}\n",
    "    planes = ['coronal', 'sagittal', 'axial']\n",
    "    for i, plane in enumerate(planes):\n",
    "        x[plane] = load_one_stack(case, plane=plane)\n",
    "    return x\n",
    "\n",
    "# interactive viewer\n",
    "class KneePlot():\n",
    "    def __init__(self, x, figsize=(10, 10)):\n",
    "        self.x = x\n",
    "        self.planes = list(x.keys())\n",
    "        self.slice_nums = {plane: self.x[plane].shape[0] for plane in self.planes}\n",
    "        self.figsize = figsize\n",
    "    \n",
    "    def _plot_slices(self, plane, im_slice): \n",
    "        fig, ax = plt.subplots(1, 1, figsize=self.figsize)\n",
    "        ax.imshow(self.x[plane][im_slice, :, :])\n",
    "        plt.show()\n",
    "    \n",
    "    def draw(self):\n",
    "        planes_widget = Dropdown(options=self.planes)\n",
    "        plane_init = self.planes[0]\n",
    "        slice_init = self.slice_nums[plane_init] - 1\n",
    "        slices_widget = IntSlider(min=0, max=slice_init, value=slice_init//2)\n",
    "        def update_slices_widget(*args):\n",
    "            slices_widget.max = self.slice_nums[planes_widget.value] - 1\n",
    "            slices_widget.value = slices_widget.max // 2\n",
    "        planes_widget.observe(update_slices_widget, 'value')\n",
    "        interact(self._plot_slices, plane=planes_widget, im_slice=slices_widget)\n",
    "    \n",
    "    def resize(self, figsize): self.figsize = figsize"
   ]
  },
  {
   "cell_type": "code",
   "execution_count": 16,
   "metadata": {},
   "outputs": [
    {
     "data": {
      "application/vnd.jupyter.widget-view+json": {
       "model_id": "95e79a7618364022921dc4ea01301625",
       "version_major": 2,
       "version_minor": 0
      },
      "text/plain": [
       "aW50ZXJhY3RpdmUoY2hpbGRyZW49KERyb3Bkb3duKGRlc2NyaXB0aW9uPXUncGxhbmUnLCBvcHRpb25zPSgnYXhpYWwnLCAnY29yb25hbCcsICdzYWdpdHRhbCcpLCB2YWx1ZT0nYXhpYWwnKSzigKY=\n"
      ]
     },
     "metadata": {},
     "output_type": "display_data"
    }
   ],
   "source": [
    "# example usage\n",
    "case = train_abnl.Case[1]\n",
    "x = load_stacks(case)\n",
    "plot = KneePlot(x, figsize=(8, 8))\n",
    "plot.draw()"
   ]
  }
 ],
 "metadata": {
  "kernelspec": {
   "display_name": "Python 2",
   "language": "python",
   "name": "python2"
  },
  "language_info": {
   "codemirror_mode": {
    "name": "ipython",
    "version": 2
   },
   "file_extension": ".py",
   "mimetype": "text/x-python",
   "name": "python",
   "nbconvert_exporter": "python",
   "pygments_lexer": "ipython2",
   "version": "2.7.15"
  }
 },
 "nbformat": 4,
 "nbformat_minor": 2
}
